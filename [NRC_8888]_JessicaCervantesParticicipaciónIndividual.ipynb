{
 "cells": [
  {
   "cell_type": "code",
   "execution_count": 1,
   "metadata": {
    "colab": {
     "base_uri": "https://localhost:8080/"
    },
    "id": "7qsTgHe91Ymh",
    "outputId": "57dfd4d5-c9fe-4404-d24c-64c7f00a4470"
   },
   "outputs": [
    {
     "name": "stdout",
     "output_type": "stream",
     "text": [
      "    y_Actual  y_Predicted\n",
      "0          1            1\n",
      "1          1            0\n",
      "2          0            1\n",
      "3          0            1\n",
      "4          0            0\n",
      "5          1            0\n",
      "6          1            1\n",
      "7          0            1\n",
      "8          1            0\n",
      "9          0            1\n",
      "10         1            1\n",
      "11         0            0\n",
      "12         0            1\n",
      "13         1            1\n",
      "14         0            1\n"
     ]
    }
   ],
   "source": [
    "#creando pandas DataFrame\n",
    "import pandas as pd\n",
    "\n",
    "data = {'y_Actual':    [1, 1, 0, 0, 0, 1, 1, 0, 1, 0, 1, 0, 0, 1, 0],\n",
    "        'y_Predicted': [1, 0, 1, 1, 0, 0, 1, 1, 0, 1, 1, 0, 1, 1, 1]\n",
    "        }\n",
    "\n",
    "df = pd.DataFrame(data, columns=['y_Actual','y_Predicted'])\n",
    "print (df)"
   ]
  },
  {
   "cell_type": "code",
   "execution_count": 2,
   "metadata": {
    "colab": {
     "base_uri": "https://localhost:8080/"
    },
    "id": "XSgjx9LU1YnB",
    "outputId": "9532c0fe-5f3d-4d2c-cf0d-2747da6a5d24"
   },
   "outputs": [
    {
     "name": "stdout",
     "output_type": "stream",
     "text": [
      "Predicted  0  1\n",
      "Actual         \n",
      "0          2  6\n",
      "1          3  4\n"
     ]
    }
   ],
   "source": [
    "#Para crear la Matriz de confusión usando pandas, deberá aplicar la tabla de referencias  pd.crosstab  de la siguiente manera:\n",
    "\n",
    "confusion_matrix = pd.crosstab(df['y_Actual'], df['y_Predicted'], rownames=['Actual'], colnames=['Predicted'])\n",
    "print (confusion_matrix)\n"
   ]
  },
  {
   "cell_type": "markdown",
   "metadata": {
    "id": "0XhjYL451Ynb"
   },
   "source": [
    "# Displaying the Confusion Matrix using seaborn"
   ]
  },
  {
   "cell_type": "markdown",
   "metadata": {
    "id": "aAot_qQP1Ynt"
   },
   "source": [
    "La matriz que acaba de crear en la sección anterior era bastante básica.\n",
    "\n",
    "Puede usar el paquete seaborn en Python para obtener una visualización más vívida de la matriz. \n",
    "Para realizar esta tarea, deberá agregar los siguientes dos componentes en el código:\n",
    "\n",
    "     importar seaborn como sn\n",
    "     sn.heatmap (confusion_matrix, annot = True)\n",
    "\n",
    "También necesitará usar el paquete matplotlib para trazar los resultados agregando:\n",
    "\n",
    "     importar matplotlib.pyplot como plt\n",
    "     plt.show ()\n",
    "\n",
    "Poniendo todo junto:"
   ]
  },
  {
   "cell_type": "code",
   "execution_count": null,
   "metadata": {
    "colab": {
     "base_uri": "https://localhost:8080/",
     "height": 335
    },
    "id": "Bgq1Hsdx1Yn0",
    "outputId": "b5398d47-7c48-4433-82dd-d3e684e8020e"
   },
   "outputs": [],
   "source": [
    "import pandas as pd\n",
    "import seaborn as sn\n",
    "import matplotlib.pyplot as plt\n",
    "from sklearn import metrics\n",
    "\n",
    "\n",
    "data = {'y_Actual':    [1, 1, 0, 0, 0, 1, 1, 0, 1, 0, 1, 0, 0, 1, 0],\n",
    "        'y_Predicted': [1, 0, 1, 1, 0, 0, 1, 1, 0, 1, 1, 0, 1, 1, 1]\n",
    "        }\n",
    "\n",
    "df = pd.DataFrame(data, columns=['y_Actual','y_Predicted'])\n",
    "confusion_matrix = pd.crosstab(df['y_Actual'], df['y_Predicted'], rownames=['Actual'], colnames=['Predicted'])\n",
    "\n",
    "sn.heatmap(confusion_matrix, annot=True)\n",
    "plt.show()\n"
   ]
  },
  {
   "cell_type": "code",
   "execution_count": null,
   "metadata": {},
   "outputs": [],
   "source": [
    "#Se realiza la evalucion del modelo por medio de la exactitud, precisión y recuperación.\n",
    "\n",
    "#Por medio del Accuracy se puede verificr el procentaje de prediccione correctas en el modelo. \n",
    "print(\"Accuracy:\", metrics.accuracy_score(y_Actual, y_Predicted))\n",
    "\n",
    "#Por medio de la Precision se puede verificar el porcentaje de los aspectos positivos predecidos del modelo eran realmente correctos.\n",
    "print(\"Precision:\", metrics.precision_score(y_Actual, y_Predicted))\n",
    "\n",
    "#Por medio del Recall se puede ver el procentaje de los aspectos positivos reales detectados en el modelo.\n",
    "print(\"Recall:\", metrics.recall_score(y_Actual, y_Predicted))"
   ]
  },
  {
   "cell_type": "code",
   "execution_count": null,
   "metadata": {},
   "outputs": [],
   "source": []
  }
 ],
 "metadata": {
  "colab": {
   "collapsed_sections": [],
   "name": "[NRC_8888]_JessicaCervantesParticicipaciónIndividual.ipynb",
   "provenance": [],
   "toc_visible": true
  },
  "kernelspec": {
   "display_name": "Python 3",
   "language": "python",
   "name": "python3"
  }
 },
 "nbformat": 4,
 "nbformat_minor": 1
}
